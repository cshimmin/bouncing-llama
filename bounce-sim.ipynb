{
 "cells": [
  {
   "cell_type": "code",
   "execution_count": 1,
   "id": "985e3060-5174-40b8-9b04-472a3982176d",
   "metadata": {},
   "outputs": [],
   "source": [
    "import numpy as np\n",
    "import pickle\n",
    "\n",
    "np.random.seed(31)"
   ]
  },
  {
   "cell_type": "code",
   "execution_count": 2,
   "id": "04883930-dc9e-43b9-b9a5-2ded49bfed93",
   "metadata": {},
   "outputs": [],
   "source": [
    "BLANK = 0\n",
    "VERTICAL = 1\n",
    "HORIZONTAL = 2\n",
    "\n",
    "def sample_field(H=24, W=64, mu_bars=4):\n",
    "    field = np.full((H,W), BLANK, dtype=np.uint8)\n",
    "\n",
    "    # horizontal bars at the top and bottom\n",
    "    field[0,:] |= HORIZONTAL\n",
    "    field[-1,:] |= HORIZONTAL\n",
    "\n",
    "    # vertical bars on the left and right\n",
    "    field[:,0] |= VERTICAL\n",
    "    field[:,-1] |= VERTICAL\n",
    "\n",
    "    # randomly sample the number of interstial bars to draw\n",
    "    nbars = np.random.poisson(mu_bars)\n",
    "\n",
    "    # for simplicity, we don't allow lines within +/- 1 space of another line\n",
    "    # of the same orientation. we'll keep track of excluded positions as we go.\n",
    "    xblocked = set()\n",
    "    yblocked = set()\n",
    "\n",
    "    for _ in range(nbars):\n",
    "        # for each bar, loop up to 5 times to try to find a compatible sample\n",
    "        for itry in range(5):\n",
    "            # randomly decide the bar's center position and orientation\n",
    "            yval = np.random.randint(2,H-2)\n",
    "            xval = np.random.randint(2,W-2)\n",
    "            horiz = np.random.choice(2)\n",
    "            \n",
    "            if horiz:\n",
    "                if yval in yblocked:\n",
    "                    # oops, we're too close to another horizontal bar.\n",
    "                    # try again.\n",
    "                    continue\n",
    "                yblocked.update((yval-1, yval, yval+1))\n",
    "                    \n",
    "                # chose bar length\n",
    "                barlen = np.random.randint(2,3*W//4)\n",
    "\n",
    "                # then write the appropriate gliph to the field along\n",
    "                # the length of the bar.\n",
    "                xlow = max(0, int(round(xval-barlen/2)))\n",
    "                xhi = min(W, int(round(xval+barlen/2)))\n",
    "                field[yval, xlow:xhi] |= HORIZONTAL\n",
    "            else:\n",
    "                if xval in xblocked:\n",
    "                    continue\n",
    "                xblocked.update((xval-1,xval,xval+1))\n",
    "                \n",
    "                barlen = np.random.randint(2,3*H//4)\n",
    "                \n",
    "                ylow = max(0, int(round(yval-barlen/2)))\n",
    "                yhi = min(H, int(round(yval+barlen/2)))\n",
    "                field[ylow:yhi,xval] |= VERTICAL\n",
    "\n",
    "            # if we made it here, we successfully sampled a bar.\n",
    "            # can break out of the inner loop now.\n",
    "            break\n",
    "\n",
    "    return field\n"
   ]
  },
  {
   "cell_type": "code",
   "execution_count": 3,
   "id": "4d1afee7-a806-4e5d-870e-54ad713bb8c9",
   "metadata": {},
   "outputs": [],
   "source": [
    "# basis of characters to initialize the ASCII representation with spaces and walls\n",
    "CHAR_LOOKUP = np.array([' ','|','-','+'])"
   ]
  },
  {
   "cell_type": "code",
   "execution_count": 4,
   "id": "512136b7-738c-4938-aff5-c929dcce7030",
   "metadata": {},
   "outputs": [
    {
     "name": "stdout",
     "output_type": "stream",
     "text": [
      "+-------------------+------------------------------------------+\n",
      "|                   |                                          |\n",
      "|                   |                                          |\n",
      "|                   |                                          |\n",
      "|                   |                                          |\n",
      "|                   |                                          |\n",
      "|                   |                                          |\n",
      "|                   |                                          |\n",
      "|                   |                                          |\n",
      "|                   |                                          |\n",
      "|                                               |              |\n",
      "|                                               |              |\n",
      "|                     |                         |              |\n",
      "|                     | ------------            |              |\n",
      "|                     |                                        |\n",
      "|                     |                                        |\n",
      "|                     |                                        |\n",
      "|                     |                                        |\n",
      "|                     |                                        |\n",
      "|                     |                                        |\n",
      "|             --------+-----------------                       |\n",
      "|                     |                                        |\n",
      "|                     |                                        |\n",
      "+---------------------+----------------------------------------+\n",
      "+----------------------------------------------------------+---------------------------------+\n",
      "|                                                          |                                 |\n",
      "|                                    |                     |            |                    |\n",
      "+---------------------------         |                     |            |                    |\n",
      "|                                    |                     |       |    |                    |\n",
      "|                                    |                     |       |    |                    |\n",
      "|                                    |                                  |                    |\n",
      "|                                    |                                  |                    |\n",
      "|                                                                       |                    |\n",
      "|                                                                       |                    |\n",
      "|                                                                                            |\n",
      "+--------------------------------------------------------------------------------------------+\n",
      "+--------------+\n",
      "|              |\n",
      "|              |\n",
      "|      |       |\n",
      "|      |       |\n",
      "|      |       |\n",
      "|      |       |\n",
      "| -----+-----+ |\n",
      "|      |     | |\n",
      "|            | |\n",
      "|    |       | |\n",
      "|    |       | |\n",
      "|    |       | |\n",
      "|    |       | |\n",
      "|            | |\n",
      "+------------+-+\n"
     ]
    }
   ],
   "source": [
    "# by fancy-indexing the char lookup with the enum flags of the generated field,\n",
    "# we can render an ASCII representation.\n",
    "print('\\n'.join(''.join(line) for line in CHAR_LOOKUP[sample_field()]))\n",
    "print('\\n'.join(''.join(line) for line in CHAR_LOOKUP[sample_field(H=12, W=94)]))\n",
    "print('\\n'.join(''.join(line) for line in CHAR_LOOKUP[sample_field(H=16, W=16)]))"
   ]
  },
  {
   "cell_type": "code",
   "execution_count": 5,
   "id": "6207e4c5-1be1-43fe-9545-7d0990cc091b",
   "metadata": {},
   "outputs": [],
   "source": [
    "from dataclasses import dataclass\n",
    "\n",
    "# simple class to keep track of physical simulator state\n",
    "@dataclass\n",
    "class State:\n",
    "    px: float\n",
    "    py: float\n",
    "    vx: float\n",
    "    vy: float\n",
    "    field: np.ndarray"
   ]
  },
  {
   "cell_type": "code",
   "execution_count": 6,
   "id": "591228a1-b30b-4d72-bf3a-7704e3b92778",
   "metadata": {},
   "outputs": [],
   "source": [
    "# find the (relative) times until the next collision with vertical and horizontal walls.\n",
    "def next_collisions(state: State):\n",
    "    H, W = state.field.shape\n",
    "    \n",
    "    # get the locations in the field where there are vertical walls\n",
    "    verticals = np.argwhere(state.field&VERTICAL)\n",
    "    tx = None\n",
    "    # loop the unique x coordinates of the vertical walls\n",
    "    for v in np.unique(verticals[:,1]):\n",
    "        # find the time when we will cross the vertical plane of this wall\n",
    "        d = (1-np.sign(state.vx))/2\n",
    "        t = (v + d - state.px)/state.vx\n",
    "        \n",
    "        if t < 0:\n",
    "            # we're moving away from this wall, not towards it.\n",
    "            continue\n",
    "\n",
    "        # find the y coordinate at intercept\n",
    "        yproj = state.py + state.vy * t\n",
    "        \n",
    "        # get the range of y values along the wall at this x location\n",
    "        extent = verticals[verticals[:,1]==v][:,0]\n",
    "\n",
    "        # check if the intercept is actually within the wall\n",
    "        if (extent.min() <= yproj <= extent.max()) or v in (0,W-1):\n",
    "            # collision confirmed. register the time.\n",
    "            if tx is None or t < tx:\n",
    "                tx = t\n",
    "                \n",
    "    horizontals = np.argwhere(state.field&HORIZONTAL)\n",
    "    ty = None\n",
    "    for h in np.unique(horizontals[:,0]):\n",
    "        d = (1-np.sign(state.vy))/2\n",
    "        t = (h + d - state.py)/state.vy\n",
    "        \n",
    "        if t < 0:\n",
    "            continue\n",
    "            \n",
    "        xproj = state.px + state.vx * t\n",
    "\n",
    "        extent = horizontals[horizontals[:,0]==h][:,1]\n",
    "        if (extent.min() <= xproj <= extent.max()) or h in (0,H-1):\n",
    "            # collision confirmed. register the time.\n",
    "            if ty is None or t < ty:\n",
    "                ty = t\n",
    "\n",
    "    # if we found no future collision, set collision time to zero\n",
    "    # this means we escaped the box, which can happen due to\n",
    "    # numerical precision; we should treat it as a collision\n",
    "    # so the velocity will be reflected immediately\n",
    "    if tx is None:\n",
    "        tx = 0\n",
    "    if ty is None:\n",
    "        ty = 0\n",
    "    return tx, ty"
   ]
  },
  {
   "cell_type": "code",
   "execution_count": 7,
   "id": "e4733799-1f9d-477a-97dc-8989045f1176",
   "metadata": {},
   "outputs": [],
   "source": [
    "# progress the simulation by a timestep of dt.\n",
    "# if a collision was encountered, simulate up to that point,\n",
    "# and return the remainder of dt.\n",
    "def sim_step(state: State, dt: float):\n",
    "    tx, ty = next_collisions(state)\n",
    "\n",
    "    # if we're at the moment of collision, reflect the velocity\n",
    "    # the relevant axes\n",
    "    if tx == 0:\n",
    "        state.vx *= -1\n",
    "        tx = 9e9\n",
    "    elif tx > dt:\n",
    "        tx = 9e9\n",
    "\n",
    "    if ty == 0:\n",
    "        state.vy *= -1\n",
    "        ty = 9e9\n",
    "    elif ty > dt:\n",
    "        ty = 9e9\n",
    "\n",
    "    # easy case: no collsion occurs within the\n",
    "    # timestep, so we step the full amount\n",
    "    # and return 0 remaining time.\n",
    "    if min(tx, ty) > dt:\n",
    "        state.px += dt * state.vx\n",
    "        state.py += dt * state.vy\n",
    "        return 0\n",
    "\n",
    "    assert (tx, ty) != (0, 0)\n",
    "\n",
    "    # check which collision happens first\n",
    "    if tx < ty:\n",
    "        # if x happens first, advance the simulation only\n",
    "        # up to that time. reflect the x velocity, then return\n",
    "        # the remaining un-stepped time.\n",
    "        state.px += state.vx * tx\n",
    "        state.py += state.vy * tx\n",
    "        state.vx *= -1\n",
    "        return dt - tx\n",
    "    else:\n",
    "        # ditto y\n",
    "        state.px += state.vx * ty\n",
    "        state.py += state.vy * ty\n",
    "        state.vy *= -1\n",
    "        return dt - ty"
   ]
  },
  {
   "cell_type": "code",
   "execution_count": 8,
   "id": "13ca2aec-e7fc-4b88-a577-6c531d0cf7b2",
   "metadata": {},
   "outputs": [],
   "source": [
    "with open('quotes.txt') as fquotes:\n",
    "    quotes = [l.rstrip() for l in fquotes.readlines() if len(l.split(' ')) < 13]"
   ]
  },
  {
   "cell_type": "code",
   "execution_count": 9,
   "id": "211dbb40-32d5-4d01-ab67-61dc017176c2",
   "metadata": {},
   "outputs": [
    {
     "data": {
      "text/plain": [
       "('Beauty in things exists in the mind which contemplates them.', 1412)"
      ]
     },
     "execution_count": 9,
     "metadata": {},
     "output_type": "execute_result"
    }
   ],
   "source": [
    "quotes[80], len(quotes)"
   ]
  },
  {
   "cell_type": "code",
   "execution_count": 10,
   "id": "f4a9c731-aceb-4107-844c-c9ca1c597d7d",
   "metadata": {},
   "outputs": [
    {
     "data": {
      "text/plain": [
       "'It is never too late to give up your prejudices.'"
      ]
     },
     "execution_count": 10,
     "metadata": {},
     "output_type": "execute_result"
    }
   ],
   "source": [
    "np.random.choice(quotes)"
   ]
  },
  {
   "cell_type": "code",
   "execution_count": null,
   "id": "fe938020-9c0d-4bf8-80fe-90a48eec8210",
   "metadata": {},
   "outputs": [],
   "source": []
  },
  {
   "cell_type": "code",
   "execution_count": 11,
   "id": "e74d4161-03d6-42d7-970a-0e82eaf615fe",
   "metadata": {},
   "outputs": [],
   "source": [
    "from tqdm import trange\n",
    "\n",
    "def generate_samples(N):\n",
    "    # main sample generator loop.\n",
    "    dataset = []\n",
    "    for igen in trange(N):\n",
    "        # pick a random starting direction and quote\n",
    "        direction = np.random.choice(['NE','SE','SW','NW'])\n",
    "        quote = np.random.choice(quotes)\n",
    "        \n",
    "        # sample a playing field of random size\n",
    "        H = 2*np.random.randint(9,13+1)\n",
    "        W = 2*np.random.randint(16,43+1)\n",
    "        field = sample_field(H, W)\n",
    "        \n",
    "        # initialize the ascii representation\n",
    "        ascii_field = CHAR_LOOKUP[field]\n",
    "\n",
    "        while True:\n",
    "            p0x = np.random.randint(2,W-2)\n",
    "            p0y = np.random.randint(2,H-2)\n",
    "            if field[p0y,p0x] == BLANK:\n",
    "                break\n",
    "                \n",
    "        # start position at the center\n",
    "        #p0x, p0y = W//2, H//2\n",
    "        \n",
    "        # set initial velocity based on direction\n",
    "        v0x, v0y = {\n",
    "            'NE': (1,-1),\n",
    "            'SE': (1,1),\n",
    "            'SW': (-1,1),\n",
    "            'NW': (-1,-1),\n",
    "        }[direction]\n",
    "        \n",
    "        # gather state information together\n",
    "        state = State(px=p0x, py=p0y, vx=v0x, vy=v0y, field=field)\n",
    "    \n",
    "        # each character in the quote corresponds to a single timestep\n",
    "        # of size dt=1.\n",
    "        for istep, ch in enumerate(quote):\n",
    "            # get the current physical position as an integer for the grid\n",
    "            px_, py_ = np.int_(np.round((state.px, state.py)))\n",
    "            \n",
    "            if ch != ' ':\n",
    "                # write the current letter of the quote, keeping spaces \"transparent\"\n",
    "                ascii_field[max(0,min(py_,H-1)), max(0,min(px_,W-1))] = ch\n",
    "    \n",
    "            dt = 1\n",
    "            # keep running simulation (which pauses upon collision)\n",
    "            # until full timestep has elapsed.\n",
    "            while dt:\n",
    "                dt = sim_step(state, dt)\n",
    "\n",
    "        prompt_field = CHAR_LOOKUP[field]\n",
    "        prompt_field[p0y, p0x] = '*'\n",
    "        \n",
    "        # save the result!\n",
    "        dataset.append({\n",
    "            'direction': direction,\n",
    "            'quote': quote,\n",
    "            'field': '\\n'.join(''.join(line) for line in prompt_field),\n",
    "            'answer': '\\n'.join(''.join(line) for line in ascii_field),\n",
    "        })\n",
    "    return dataset"
   ]
  },
  {
   "cell_type": "code",
   "execution_count": 12,
   "id": "5de0c437-3dc2-4666-9d49-7b8fa7dcafe2",
   "metadata": {},
   "outputs": [
    {
     "name": "stderr",
     "output_type": "stream",
     "text": [
      "100%|██████████| 1000/1000 [00:04<00:00, 211.38it/s]\n"
     ]
    }
   ],
   "source": [
    "ds1k = generate_samples(1_000)"
   ]
  },
  {
   "cell_type": "code",
   "execution_count": 13,
   "id": "ab1ef48e-7a03-4f34-9992-9eb575fd96ed",
   "metadata": {},
   "outputs": [],
   "source": [
    "with open('bounce1k.pkl', 'wb') as fpkl:\n",
    "    pickle.dump(ds1k, fpkl)"
   ]
  },
  {
   "cell_type": "code",
   "execution_count": 14,
   "id": "bc4cb0df-2f6f-4865-86b0-6f3f2633a534",
   "metadata": {},
   "outputs": [
    {
     "name": "stderr",
     "output_type": "stream",
     "text": [
      "100%|██████████| 10000/10000 [00:48<00:00, 206.72it/s]\n"
     ]
    }
   ],
   "source": [
    "ds10k = generate_samples(10_000)"
   ]
  },
  {
   "cell_type": "code",
   "execution_count": 15,
   "id": "0e2b4f7f-0b3b-4f00-b33c-f4e48f1a1c00",
   "metadata": {},
   "outputs": [],
   "source": [
    "with open('bounce10k.pkl', 'wb') as fpkl:\n",
    "    pickle.dump(ds10k, fpkl)"
   ]
  },
  {
   "cell_type": "code",
   "execution_count": null,
   "id": "9ca3287e-4fb1-4ef0-bb9f-9f5de39d1f2c",
   "metadata": {},
   "outputs": [],
   "source": []
  }
 ],
 "metadata": {
  "kernelspec": {
   "display_name": "llama",
   "language": "python",
   "name": "llama"
  },
  "language_info": {
   "codemirror_mode": {
    "name": "ipython",
    "version": 3
   },
   "file_extension": ".py",
   "mimetype": "text/x-python",
   "name": "python",
   "nbconvert_exporter": "python",
   "pygments_lexer": "ipython3",
   "version": "3.10.13"
  }
 },
 "nbformat": 4,
 "nbformat_minor": 5
}
