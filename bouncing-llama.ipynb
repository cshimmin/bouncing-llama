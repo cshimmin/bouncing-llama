{
 "cells": [
  {
   "cell_type": "markdown",
   "metadata": {},
   "source": [
    "# Bouncing LLaMa! 🦙\n",
    ">  A silly experiment to learn a bit more about LLMs and finetuning.\n",
    "> \n",
    "> By Chase Shimmin\n",
    "\n",
    "## The idea:\n",
    "After a very interesting conversation with [@Susmit Jha](https://susmitjha.github.io/), I've been thinking about how LLMs might learn to reason about physical processes that are expressed in a non-standard language representation.\n",
    "\n",
    "I decided it would be fun to find out if the LLM could learn the \"rules\" of a physical system by simply observing the resultant state of its evolution. It's not that different to how human physicists come up with a theoretical understanding of nature. As [Feynman put it](https://nemoslibrary.com/2016/09/28/the-chess-game-analogy-feynman-on-the-laws-of-nature/):\n",
    "> [...] what we’re doing in trying to understand nature is to imagine that the gods are playing some great game like chess. [...] And you don’t know the rules of the game, but you’re allowed to look at the board at least from time to time and in a little corner, perhaps. And from these observations, you try to figure out what the rules are of the game, what are the rules of the pieces moving.\n",
    "> You might discover after a bit, for example, that when there’s only one bishop around on the board, that the bishop maintains its color. Later on you might discover the law for the bishop is that it moves on a diagonal, which would explain the law that you understood before, that it maintains its color.\n",
    ">\n",
    "> –Richard Feynman _“The Pleasure of Finding Things Out”_\n",
    "\n",
    "## The toy problem:\n",
    "After musing for a bit, I concieved an idea to have the LLM learn the physics of a ball bouncing around in a maze-like box, with ideal elastic collisions and no external forces. That is, the ball moves in straight lines at constant velocity, until it hits a wall, at which point its velocity is reflected about the surface normal.\n",
    "\n",
    "First, I wrote a simple procedural generator to randomly synthesize such environments comprised of vertical and horizontal walls; see my other notebook [bounce-sim.ipynb](bounce-sim.ipynb). The environments look something like this:\n",
    "\n",
    "```\n",
    "            +-----------------------+------------------------+\n",
    "            |                       |                        |\n",
    "            |                  |    |                        |\n",
    "            +---------------   |    |                        |\n",
    "            |                  |    |                        |\n",
    "            |                  |    |                        |\n",
    "            |                  |    |                        |\n",
    "            |                  |    |                        |\n",
    "            |                       |                        |\n",
    "            |    |                  |            |           |\n",
    "            |    |                | |            |           |\n",
    "            |    |               -+-+----------              |\n",
    "            |    |                |                          |\n",
    "            |                     |                          |\n",
    "            |                                                |\n",
    "            |                                                |\n",
    "            |                                                |\n",
    "            |                                                |\n",
    "            +------------------------------------------------+\n",
    "```\n",
    "\n",
    "The physical simulation begins by selecting a random point, and an _intercardinal direction_, i.e. SW,NW,NE,SE. Then, the ball proceeds at a constant velocity of √2, responding to collisions as needed. A trajectory might look like this:\n",
    "\n",
    "```\n",
    "            +-----------------------+------------------------+\n",
    "            |           *  /\\       |                        |\n",
    "            |            \\/  \\ |    |                        |\n",
    "            +---------------  \\|    |                        |\n",
    "            | /\\              /|    |                        |\n",
    "            |/  \\            / |    |                        |\n",
    "            |\\   \\          /  |    |                        |\n",
    "            | \\   \\        /   |    |                        |\n",
    "            |  \\   \\      /         |                        |\n",
    "            |   \\|  ➘    /          |            |           |\n",
    "            |   /|      /         | |            |           |\n",
    "            |  / |     /         -+-+----------              |\n",
    "            | /  |    /           |                          |\n",
    "            |/       /            |                          |\n",
    "            |\\      /                                        |\n",
    "            | \\    /                                         |\n",
    "            |  \\  /                                          |\n",
    "            |   \\/                                           |\n",
    "            +------------------------------------------------+\n",
    "```\n",
    "where the `*` indicates the starting position, and the initial velocity was southeast (SE).\n",
    "\n",
    "To make things more interesting, and to maintain some semblance of a language-oriented task, I represented each timestep along the trajectory using the ordered characters from a given quote in the prompt (I got a big list of famous quotes from a random .csv on github). For example, if the quote was:\n",
    "\n",
    "🔴 `I'm sorry Dave, I'm afraid I can't do that.`\n",
    "\n",
    "The final result would be:\n",
    "\n",
    "```\n",
    "            +-----------------------+------------------------+\n",
    "            |           I   s       |                        |\n",
    "            |            'm  o |    |                        |\n",
    "            +---------------  r|    |                        |\n",
    "            |  d              r|    |                        |\n",
    "            |t  o            y |    |                        |\n",
    "            |'                 |    |                        |\n",
    "            | n   t        D   |    |                        |\n",
    "            |  a   h      a         |                        |\n",
    "            |   c|  a    v          |            |           |\n",
    "            |    |   t  e         | |            |           |\n",
    "            |  I |    .,         -+-+----------              |\n",
    "            |    |                |                          |\n",
    "            |d       I            |                          |\n",
    "            |i      '                                        |\n",
    "            | a    m                                         |\n",
    "            |  r                                             |\n",
    "            |   fa                                           |\n",
    "            +------------------------------------------------+\n",
    "```\n",
    "\n",
    "## Will it work?\n",
    "Honestly, it works about as well as I thought it might. What truly surprised me is how well it worked, given the very limited amount of training (about 2 epochs on 10k examples).\n",
    "\n",
    "If you think about it, it's not at all obvious that an LLM would be suited for this kind of task. The first question that comes to mind is whether the tokenizer will be able to reasonably cope with this kind of input, since it is very different from the (natural) language inputs that it is largely trained on.\n",
    "\n",
    "Even more worrisome, there is limited, and highly inconsistent locality between \"adjacent\" letters in the output. Keep in mind that the actual input to the LLM is essentially one long line of tokens; it does not intrinsically see the 2D structure the way human eyes, or even image CNNs, naturally do.\n",
    "\n",
    "For example, the sequence of characters between the first two letters \"D\" and \"a\" in *Da*ve becomes:\n",
    "\n",
    "`D   |    |                        |\\n            |  a   h      a`\n",
    "\n",
    "while the sequence between \"a\" and \"f\" in *af*raid is:\n",
    "`fa`.\n",
    "\n",
    "We're being extra mean to the LLM here by allowing the number of columns to vary between examples!\n",
    "\n",
    "\n",
    "On the other hand, it's not totally implausible that it _could_ learn something like this. The pairwise representation of inputs that is developed within the transformer architecture, simliarly to GNNs, can effectively be used to represent discrete locations on a grid. It's possible, but unlike in a CNN, it's not _required_ to, and I certainly don't expect this structure to be something it has spontaneously learned during training on the NLP corpus. The question is, will fine tuning be enough?\n",
    "\n",
    "## Let's do this!\n",
    "Enough yammering, onto the code. The basics of fine tuning LLaMa using PEFT was largely based on Meta's own [finetuning quickstart](https://github.com/meta-llama/llama-recipes/blob/main/recipes/quickstart/finetuning/quickstart_peft_finetuning.ipynb) in the `llama_recipes` repo. I've added additional comments and illustrations on the dataset that's being trained throughout."
   ]
  },
  {
   "cell_type": "code",
   "execution_count": 1,
   "metadata": {},
   "outputs": [],
   "source": [
    "from IPython.display import display, Markdown\n",
    "import numpy as np\n",
    "import matplotlib.pyplot as plt\n",
    "import torch\n",
    "\n",
    "import huggingface_hub"
   ]
  },
  {
   "cell_type": "code",
   "execution_count": 2,
   "metadata": {},
   "outputs": [
    {
     "name": "stdout",
     "output_type": "stream",
     "text": [
      "The token has not been saved to the git credentials helper. Pass `add_to_git_credential=True` in this function directly or `--add-to-git-credential` if using via `huggingface-cli` if you want to set the git credential as well.\n",
      "Token is valid (permission: read).\n",
      "Your token has been saved to /root/.cache/huggingface/token\n",
      "Login successful\n"
     ]
    }
   ],
   "source": [
    "huggingface_hub.login()"
   ]
  },
  {
   "attachments": {},
   "cell_type": "markdown",
   "metadata": {},
   "source": [
    "### Step 1: Load LLaMa 3.1-8B\n",
    "\n",
    "Setup training configuration and load the model and tokenizer."
   ]
  },
  {
   "cell_type": "code",
   "execution_count": 3,
   "metadata": {},
   "outputs": [
    {
     "data": {
      "application/vnd.jupyter.widget-view+json": {
       "model_id": "879484a850bd4976bf13b8e2de43a7ae",
       "version_major": 2,
       "version_minor": 0
      },
      "text/plain": [
       "Loading checkpoint shards:   0%|          | 0/4 [00:00<?, ?it/s]"
      ]
     },
     "metadata": {},
     "output_type": "display_data"
    }
   ],
   "source": [
    "from transformers import LlamaForCausalLM, AutoTokenizer\n",
    "from llama_recipes.configs import train_config as TRAIN_CONFIG\n",
    "\n",
    "train_config = TRAIN_CONFIG()\n",
    "train_config.model_name = \"meta-llama/Meta-Llama-3.1-8B\"\n",
    "train_config.num_epochs = 1\n",
    "train_config.run_validation = False\n",
    "train_config.gradient_accumulation_steps = 4\n",
    "#train_config.batch_size_training = 1\n",
    "train_config.lr = 3e-4\n",
    "train_config.use_fast_kernels = True\n",
    "train_config.use_fp16 = True\n",
    "#train_config.context_length = 1024 if torch.cuda.get_device_properties(0).total_memory < 16e9 else 2048 # T4 16GB or A10 24GB\n",
    "\n",
    "# I optimized the context size a bit so that with packing it would max out the ram on 4090\n",
    "train_config.batch_size_training = 3\n",
    "train_config.context_length = 1280 \n",
    "\n",
    "train_config.batching_strategy = \"packing\"\n",
    "train_config.output_dir = \"bounce-quotes\"\n",
    "\n",
    "from transformers import BitsAndBytesConfig\n",
    "config = BitsAndBytesConfig(\n",
    "    load_in_8bit=True,\n",
    ")\n",
    "\n",
    "model = LlamaForCausalLM.from_pretrained(\n",
    "            train_config.model_name,\n",
    "            device_map=\"auto\",\n",
    "            quantization_config=config,\n",
    "            use_cache=False,\n",
    "            attn_implementation=\"sdpa\" if train_config.use_fast_kernels else None,\n",
    "            torch_dtype=torch.float16,\n",
    "        )\n",
    "\n",
    "tokenizer = AutoTokenizer.from_pretrained(train_config.model_name)\n",
    "tokenizer.pad_token = tokenizer.eos_token"
   ]
  },
  {
   "attachments": {},
   "cell_type": "markdown",
   "metadata": {},
   "source": [
    "### Step 2: Load and format the toy dataset\n",
    "\n",
    "We can use the 1k sample for eval and 10k for training."
   ]
  },
  {
   "cell_type": "code",
   "execution_count": 9,
   "metadata": {},
   "outputs": [],
   "source": [
    "import pickle\n",
    "with open('bounce1k.pkl', 'rb') as fpkl:\n",
    "    dataset1k = pickle.load(fpkl)\n",
    "\n",
    "with open('bounce10k.pkl', 'rb') as fpkl:\n",
    "    dataset10k = pickle.load(fpkl)"
   ]
  },
  {
   "cell_type": "code",
   "execution_count": 5,
   "metadata": {},
   "outputs": [],
   "source": [
    "# Turns the pickled dataset entries into a textual prompt and answer, for feeding into the LLM.\n",
    "def format_sample(sample):\n",
    "    prompt = f\"\"\"\\\n",
    "Let's play the bouncy letters game!\n",
    "\n",
    "__Starting direction:__ `{sample['direction']}`\n",
    "\n",
    "__Reference text:__ `{sample['quote']}`\n",
    "\n",
    "__Playing field:__\n",
    "```\n",
    "{sample['field']}\n",
    "```\n",
    "__Answer:__\n",
    "\n",
    "\"\"\"\n",
    "    answer = f\"\"\"\\\n",
    "```\n",
    "{sample['answer']}\n",
    "```\n",
    "\"\"\"\n",
    "    return {'prompt': prompt, 'answer': answer}"
   ]
  },
  {
   "cell_type": "markdown",
   "metadata": {},
   "source": [
    "#### A formatted prompt/answer looks like this:"
   ]
  },
  {
   "cell_type": "code",
   "execution_count": 28,
   "metadata": {
    "jupyter": {
     "source_hidden": true
    }
   },
   "outputs": [
    {
     "data": {
      "text/markdown": [
       "Let's play the bouncy letters game!\n",
       "\n",
       "__Starting direction:__ `SE`\n",
       "\n",
       "__Reference text:__ `The unexamined life is not worth living.`\n",
       "\n",
       "__Playing field:__\n",
       "```\n",
       "+-------------------------+--------------------------------------------------------+\n",
       "|                         |                                                        |\n",
       "|                         |                                                        |\n",
       "|                         |                                                        |\n",
       "|               |         |                                                        |\n",
       "|               |         |                                                        |\n",
       "|                         |                                                        |\n",
       "|                         |                                               |        |\n",
       "|                         |                                               |        |\n",
       "|   *                     |                                               |        |\n",
       "|                         |                              |                |        |\n",
       "|                         |                              |                |        |\n",
       "|                                                        |                |        |\n",
       "|                                                        |                |        |\n",
       "|             -------------------------------------------+                |        |\n",
       "|                                                        |                         |\n",
       "|                                                        |                         |\n",
       "|                                                        |                         |\n",
       "|   |                                                    |                         |\n",
       "|   |                                                    |                         |\n",
       "|   |                                                                              |\n",
       "|   |                                                                              |\n",
       "+---+---------------------                                                         |\n",
       "|   |                                                                              |\n",
       "|   |                                                                              |\n",
       "+---+------------------------------------------------------------------------------+\n",
       "```\n",
       "__Answer:__\n",
       "\n",
       "```\n",
       "+-------------------------+--------------------------------------------------------+\n",
       "|                         |                                                        |\n",
       "|                         |                                                        |\n",
       "|                         |                                                        |\n",
       "|               |         |                                                        |\n",
       "|               |         |                                                        |\n",
       "|                         |                                                        |\n",
       "|                         |                                               |        |\n",
       "|                         |                                               |        |\n",
       "|   T                     |                                               |        |\n",
       "|    h                    |                              |                |        |\n",
       "|     e                   |                              |                |        |\n",
       "|                                                        |                |        |\n",
       "|       u                                                |                |        |\n",
       "|        n    -------------------------------------------+                |        |\n",
       "|         e             i                                |                         |\n",
       "|          x             s                 .             |                         |\n",
       "|           a         e                   g              |                         |\n",
       "|   |        m       f     n             n               |                         |\n",
       "|   |         i     i       o           i                |                         |\n",
       "|   |          n   l         t         v                                           |\n",
       "|   |           e                     i                                            |\n",
       "+---+------------d--------     w     l                                             |\n",
       "|   |                           o                                                  |\n",
       "|   |                            r h                                               |\n",
       "+---+-----------------------------t------------------------------------------------+\n",
       "```\n"
      ],
      "text/plain": [
       "<IPython.core.display.Markdown object>"
      ]
     },
     "metadata": {},
     "output_type": "display_data"
    }
   ],
   "source": [
    "ieval = 226\n",
    "formatted = format_sample(dataset1k[ieval])\n",
    "display(Markdown(formatted['prompt'] + formatted['answer']))"
   ]
  },
  {
   "attachments": {},
   "cell_type": "markdown",
   "metadata": {},
   "source": [
    "### Step 3: Inspect tokenizer\n",
    "\n",
    "Since the format of these prompts/answers are not very \"standard\" text data, I was interested to see how many tokens they use."
   ]
  },
  {
   "cell_type": "code",
   "execution_count": 10,
   "metadata": {},
   "outputs": [
    {
     "data": {
      "image/png": "[encoded data removed]",
      "text/plain": [
       "<Figure size 1600x480 with 2 Axes>"
      ]
     },
     "metadata": {},
     "output_type": "display_data"
    }
   ],
   "source": [
    "# get some statistics on the token count of the prompts:\n",
    "ntokens_prompt = [len(tokenizer.encode(format_sample(samp)['prompt'])) for samp in dataset10k]\n",
    "ntokens_answer = [len(tokenizer.encode(format_sample(samp)['answer'])) for samp in dataset10k]\n",
    "\n",
    "plt.figure(figsize=plt.figaspect(0.3))\n",
    "plt.subplot(121)\n",
    "plt.hist(ntokens_prompt, range=(100,300), bins=100);\n",
    "plt.xlabel(\"Token count\")\n",
    "plt.ylabel(\"Samples\");\n",
    "mean, med = np.mean(ntokens_prompt), np.median(ntokens_prompt)\n",
    "plt.axvline(mean, color='red', label=f'Mean: {mean:.1f}')\n",
    "plt.axvline(med, color='black', label=f'Median: {med:.1f}')\n",
    "plt.legend()\n",
    "plt.title(\"Prompt tokens\");\n",
    "\n",
    "plt.subplot(122)\n",
    "plt.hist(ntokens_answer, range=(100,300), bins=100);\n",
    "plt.xlabel(\"Token count\")\n",
    "plt.ylabel(\"Samples\");\n",
    "mean, med = np.mean(ntokens_answer), np.median(ntokens_answer)\n",
    "plt.axvline(mean, color='red', label=f'Mean: {mean:.1f}')\n",
    "plt.axvline(med, color='black', label=f'Median: {med:.1f}')\n",
    "plt.legend()\n",
    "plt.title(\"Answer tokens\");"
   ]
  },
  {
   "attachments": {},
   "cell_type": "markdown",
   "metadata": {},
   "source": [
    "### Step 4: Test untrained model response\n"
   ]
  },
  {
   "cell_type": "code",
   "execution_count": 12,
   "metadata": {},
   "outputs": [
    {
     "name": "stderr",
     "output_type": "stream",
     "text": [
      "Setting `pad_token_id` to `eos_token_id`:128001 for open-end generation.\n"
     ]
    },
    {
     "data": {
      "text/markdown": [
       "Let's play the bouncy letters game!\n",
       "\n",
       "__Starting direction:__ `SE`\n",
       "\n",
       "__Reference text:__ `The unexamined life is not worth living.`\n",
       "\n",
       "__Playing field:__\n",
       "```\n",
       "+-------------------------+--------------------------------------------------------+\n",
       "|                         |                                                        |\n",
       "|                         |                                                        |\n",
       "|                         |                                                        |\n",
       "|               |         |                                                        |\n",
       "|               |         |                                                        |\n",
       "|                         |                                                        |\n",
       "|                         |                                               |        |\n",
       "|                         |                                               |        |\n",
       "|   *                     |                                               |        |\n",
       "|                         |                              |                |        |\n",
       "|                         |                              |                |        |\n",
       "|                                                        |                |        |\n",
       "|                                                        |                |        |\n",
       "|             -------------------------------------------+                |        |\n",
       "|                                                        |                         |\n",
       "|                                                        |                         |\n",
       "|                                                        |                         |\n",
       "|   |                                                    |                         |\n",
       "|   |                                                    |                         |\n",
       "|   |                                                                              |\n",
       "|   |                                                                              |\n",
       "+---+---------------------                                                         |\n",
       "|   |                                                                              |\n",
       "|   |                                                                              |\n",
       "+---+------------------------------------------------------------------------------+\n",
       "```\n",
       "__Answer:__\n",
       "\n",
       "```\n",
       "+-------------------------+--------------------------------------------------------+\n",
       "|                         |                                                        |\n",
       "|                         |                                                        |\n",
       "|                         |                                                        |\n",
       "|               |         |                                                        |\n",
       "|               |         |                                                        |\n",
       "|                         |                                                        |\n",
       "|                         |                                               |        |\n",
       "|                         |                                               |        |\n",
       "|   *                     |                                               |        |\n",
       "|                         |                              |                |        |\n",
       "|                         |                              |                |        |\n",
       "|                                                        |                |        |\n",
       "|                                                        |                |        |\n",
       "|             -------------------------------------------+                |        |\n",
       "|                                                        |                         |\n",
       "|                                                        |                         |\n",
       "|                                                        |                         |\n",
       "|   |                                                    |                         |\n",
       "|   |                                                    |                         |\n",
       "|   |                                                                              |\n",
       "|   |                                                                              |\n",
       "+---+---------------------                                                         |\n",
       "|   |                                                                              |\n",
       "|   |                                                                              |\n",
       "+---+------------------------------------------------------------------------------+\n",
       "```\n"
      ],
      "text/plain": [
       "<IPython.core.display.Markdown object>"
      ]
     },
     "metadata": {},
     "output_type": "display_data"
    }
   ],
   "source": [
    "eval_prompt = format_sample(dataset1k[ieval])['prompt']\n",
    "\n",
    "model_input = tokenizer(eval_prompt, return_tensors=\"pt\").to(\"cuda\")\n",
    "\n",
    "model.eval()\n",
    "with torch.no_grad():\n",
    "    display(Markdown(tokenizer.decode(model.generate(**model_input, max_new_tokens=180)[0], skip_special_tokens=True)))"
   ]
  },
  {
   "cell_type": "markdown",
   "metadata": {},
   "source": [
    "#### Interestingly, the models' out-of-the-box behavior to repeat the playing field.\n",
    "(If you rerun it several times, it occasionaly tries to make up rules to the \"bouncy letters game\" instead.)"
   ]
  },
  {
   "attachments": {},
   "cell_type": "markdown",
   "metadata": {},
   "source": [
    "### Step 5: Configure model for PEFT\n",
    "\n",
    "Prepare the model for Parameter Efficient Fine Tuning (PEFT), and set the optimizer/LR scheduler config."
   ]
  },
  {
   "cell_type": "code",
   "execution_count": 14,
   "metadata": {},
   "outputs": [],
   "source": [
    "from peft import get_peft_model, prepare_model_for_kbit_training, LoraConfig\n",
    "from dataclasses import asdict\n",
    "from llama_recipes.configs import lora_config as LORA_CONFIG\n",
    "\n",
    "lora_config = LORA_CONFIG()\n",
    "lora_config.r = 8\n",
    "lora_config.lora_alpha = 32\n",
    "lora_dropout: float=0.01\n",
    "\n",
    "peft_config = LoraConfig(**asdict(lora_config))\n",
    "\n",
    "model = prepare_model_for_kbit_training(model)\n",
    "model = get_peft_model(model, peft_config)"
   ]
  },
  {
   "cell_type": "code",
   "execution_count": 16,
   "metadata": {},
   "outputs": [],
   "source": [
    "import torch.optim as optim\n",
    "from llama_recipes.utils.train_utils import train\n",
    "from torch.optim.lr_scheduler import StepLR\n",
    "\n",
    "\n",
    "optimizer = optim.AdamW(\n",
    "            model.parameters(),\n",
    "            lr=train_config.lr,\n",
    "            weight_decay=train_config.weight_decay,\n",
    "        )\n",
    "scheduler = StepLR(optimizer, step_size=1, gamma=train_config.gamma)"
   ]
  },
  {
   "attachments": {},
   "cell_type": "markdown",
   "metadata": {},
   "source": [
    "### Step 6: Preprocess text dataset for LLM ingestion\n",
    "\n",
    "Split the prompt/answer segments, tokenize, and configure the response labels."
   ]
  },
  {
   "cell_type": "code",
   "execution_count": 21,
   "metadata": {},
   "outputs": [],
   "source": [
    "def get_preprocessed_bounce(tokenizer, split='10k'):\n",
    "    import pickle\n",
    "    with open(f'bounce{split}.pkl', 'rb') as fpkl:\n",
    "        dataset_raw = pickle.load(fpkl)\n",
    "\n",
    "    def tokenize_add_label(sample):\n",
    "        sample = format_sample(sample)\n",
    "        prompt = tokenizer.encode(tokenizer.bos_token + sample['prompt'], add_special_tokens=False)\n",
    "        answer = tokenizer.encode(sample['answer'] +  tokenizer.eos_token, add_special_tokens=False)\n",
    "\n",
    "        sample = {\n",
    "            \"input_ids\": prompt + answer,\n",
    "            \"attention_mask\" : [1] * (len(prompt) + len(answer)),\n",
    "            \"labels\": [-100] * len(prompt) + answer,\n",
    "            }\n",
    "\n",
    "        return sample\n",
    "\n",
    "    return list(map(tokenize_add_label, dataset_raw))"
   ]
  },
  {
   "cell_type": "markdown",
   "metadata": {},
   "source": [
    "And set up the dataloader:"
   ]
  },
  {
   "cell_type": "code",
   "execution_count": 22,
   "metadata": {},
   "outputs": [
    {
     "name": "stderr",
     "output_type": "stream",
     "text": [
      "Preprocessing dataset: 100%|██████████| 10000/10000 [00:00<00:00, 57119.53it/s]\n"
     ]
    }
   ],
   "source": [
    "from llama_recipes.data.concatenator import ConcatDataset\n",
    "from llama_recipes.utils.config_utils import get_dataloader_kwargs\n",
    "\n",
    "train_config.batch_size_training = 3\n",
    "#train_config.batching_strategy = \"padding\"\n",
    "#train_config.context_length = 1024\n",
    "\n",
    "train_dataset = get_preprocessed_bounce(tokenizer)\n",
    "\n",
    "train_dl_kwargs = get_dataloader_kwargs(train_config, train_dataset, tokenizer, \"train\")\n",
    "train_dl_kwargs['shuffle'] = True\n",
    "\n",
    "if train_config.batching_strategy == \"packing\":\n",
    "        train_dataset = ConcatDataset(train_dataset, chunk_size=train_config.context_length)\n",
    "\n",
    "# Create DataLoaders for the training and validation dataset\n",
    "train_dataloader = torch.utils.data.DataLoader(\n",
    "    train_dataset,\n",
    "    num_workers=train_config.num_workers_dataloader,\n",
    "    pin_memory=True,\n",
    "    **train_dl_kwargs,\n",
    ")"
   ]
  },
  {
   "cell_type": "code",
   "execution_count": 23,
   "metadata": {},
   "outputs": [
    {
     "data": {
      "text/plain": [
       "(2607, 1280)"
      ]
     },
     "execution_count": 23,
     "metadata": {},
     "output_type": "execute_result"
    }
   ],
   "source": [
    "len(train_dataset), len(train_dataset[0]['input_ids'])"
   ]
  },
  {
   "cell_type": "markdown",
   "metadata": {},
   "source": [
    "### Step 7: Train!"
   ]
  },
  {
   "cell_type": "code",
   "execution_count": 58,
   "metadata": {},
   "outputs": [
    {
     "name": "stderr",
     "output_type": "stream",
     "text": [
      "Training Epoch: 1:   0%|\u001b[34m          \u001b[0m| 0/217 [00:00<?, ?it/s]huggingface/tokenizers: The current process just got forked, after parallelism has already been used. Disabling parallelism to avoid deadlocks...\n",
      "To disable this warning, you can either:\n",
      "\t- Avoid using `tokenizers` before the fork if possible\n",
      "\t- Explicitly set the environment variable TOKENIZERS_PARALLELISM=(true | false)\n",
      "Training Epoch: 1/1, step 868/869 completed (loss: 0.15003350377082825): : 218it [39:52, 10.97s/it]                       1.00s/it]\n"
     ]
    },
    {
     "name": "stdout",
     "output_type": "stream",
     "text": [
      "Max CUDA memory allocated was 19 GB\n",
      "Max CUDA memory reserved was 21 GB\n",
      "Peak active CUDA memory was 19 GB\n",
      "CUDA Malloc retries : 0\n",
      "CPU Total Peak Memory consumed during the train (max): 4 GB\n",
      "Epoch 1: train_perplexity=1.1977, train_epoch_loss=0.1804, epoch time 2392.51251274487s\n"
     ]
    }
   ],
   "source": [
    "# Start the training process\n",
    "\n",
    "train_config.num_epochs = 1\n",
    "\n",
    "model.train()\n",
    "\n",
    "results = train(\n",
    "    model,\n",
    "    train_dataloader,\n",
    "    None,\n",
    "    tokenizer,\n",
    "    optimizer,\n",
    "    scheduler,\n",
    "    train_config.gradient_accumulation_steps,\n",
    "    train_config,\n",
    "    None,\n",
    "    None,\n",
    "    None,\n",
    "    wandb_run=None,\n",
    ")"
   ]
  },
  {
   "cell_type": "markdown",
   "metadata": {},
   "source": [
    "### Step 8: Check trained model performance\n",
    "This time we just show the answer segment of the response.\n",
    "\n",
    "This is an example from the evaluation dataset. We can see that it's definitely trying to write some of the words along diagonals, and it even gets one collision/reflection correct!"
   ]
  },
  {
   "cell_type": "code",
   "execution_count": 72,
   "metadata": {
    "jupyter": {
     "source_hidden": true
    }
   },
   "outputs": [
    {
     "name": "stderr",
     "output_type": "stream",
     "text": [
      "Setting `pad_token_id` to `eos_token_id`:128001 for open-end generation.\n"
     ]
    },
    {
     "data": {
      "text/markdown": [
       "```\n",
       "+-------------------------+--------------------------------------------------------+\n",
       "|                         |                                                        |\n",
       "|                         |                                                        |\n",
       "|                         |                                                        |\n",
       "|               |         |                                                        |\n",
       "|               |         |                                                        |\n",
       "|                         |                                                        |\n",
       "|                         |                                               |        |\n",
       "|                         |                                               |        |\n",
       "|   T                     |                                               |        |\n",
       "|  h                      |                              |                |        |\n",
       "| e                       |                              |                |        |\n",
       "|                         .                                               |        |\n",
       "| u                       g|                |                |                |        |\n",
       "|  n                     n |                |                |                |        |\n",
       "|   a                   i  -------------------------------------------+                |\n",
       "|    x                 v             l                                   |                         |\n",
       "|     e               i             i v                                    |                         |\n",
       "|      m             l             v i                                     |                         |\n",
       "|   |    i           g           i t                                      |                         |\n",
       "|   |     n         n         n g                                         |                         |\n",
       "|   |      e"
      ],
      "text/plain": [
       "<IPython.core.display.Markdown object>"
      ]
     },
     "metadata": {},
     "output_type": "display_data"
    }
   ],
   "source": [
    "eval_prompt = format_sample(dataset1k[ieval])['prompt']\n",
    "\n",
    "model_input = tokenizer(eval_prompt, return_tensors=\"pt\").to(\"cuda\")\n",
    "\n",
    "model.eval()\n",
    "with torch.no_grad():\n",
    "    response = tokenizer.decode(model.generate(**model_input, max_new_tokens=200)[0], skip_special_tokens=True)\n",
    "\n",
    "# just print the answer part:\n",
    "display(Markdown(response[len(eval_prompt):]))"
   ]
  },
  {
   "cell_type": "markdown",
   "metadata": {},
   "source": [
    "For reference, here's the ground truth again; we can see that it did not actually use the correct starting direction from the prompt."
   ]
  },
  {
   "cell_type": "code",
   "execution_count": 79,
   "metadata": {},
   "outputs": [
    {
     "data": {
      "text/markdown": [
       "```\n",
       "+-------------------------+--------------------------------------------------------+\n",
       "|                         |                                                        |\n",
       "|                         |                                                        |\n",
       "|                         |                                                        |\n",
       "|               |         |                                                        |\n",
       "|               |         |                                                        |\n",
       "|                         |                                                        |\n",
       "|                         |                                               |        |\n",
       "|                         |                                               |        |\n",
       "|   T                     |                                               |        |\n",
       "|    h                    |                              |                |        |\n",
       "|     e                   |                              |                |        |\n",
       "|                                                        |                |        |\n",
       "|       u                                                |                |        |\n",
       "|        n    -------------------------------------------+                |        |\n",
       "|         e             i                                |                         |\n",
       "|          x             s                 .             |                         |\n",
       "|           a         e                   g              |                         |\n",
       "|   |        m       f     n             n               |                         |\n",
       "|   |         i     i       o           i                |                         |\n",
       "|   |          n   l         t         v                                           |\n",
       "|   |           e                     i                                            |\n",
       "+---+------------d--------     w     l                                             |\n",
       "|   |                           o                                                  |\n",
       "|   |                            r h                                               |\n",
       "+---+-----------------------------t------------------------------------------------+\n",
       "```\n"
      ],
      "text/plain": [
       "<IPython.core.display.Markdown object>"
      ]
     },
     "metadata": {},
     "output_type": "display_data"
    }
   ],
   "source": [
    "display(Markdown(format_sample(dataset1k[ieval])['answer']))"
   ]
  },
  {
   "cell_type": "markdown",
   "metadata": {},
   "source": [
    "What if we modify the original prompt to so that the initial velocity is northeast instead of southeast? Turns out it still does the same direction.\n",
    "But although the columns are all jumbled up, it has some impressive reflections on the horizontal walls!"
   ]
  },
  {
   "cell_type": "code",
   "execution_count": 76,
   "metadata": {},
   "outputs": [
    {
     "name": "stderr",
     "output_type": "stream",
     "text": [
      "Setting `pad_token_id` to `eos_token_id`:128001 for open-end generation.\n"
     ]
    },
    {
     "data": {
      "text/markdown": [
       "```\n",
       "+-------------------------+--------------------------------------------------------+\n",
       "|                         |                                                        |\n",
       "|                         |                                                        |\n",
       "|                         |                                                        |\n",
       "|               |         |                                                        |\n",
       "|               |         |                                                        |\n",
       "|                         |                                                        |\n",
       "|                         |                                               |        |\n",
       "|                         |                                               |        |\n",
       "|   T                     |                                               |        |\n",
       "|  h                      |                              |                |        |\n",
       "| e                       |                              |                |        |\n",
       "|u                                                        |                |        |\n",
       "| n                                                        |                |        |\n",
       "|  a-------------------------------------------+                |        |\n",
       "|   m           l           t       i          |                         |\n",
       "|    e         i           h       v           |                         |\n",
       "|     d       v     s     t   t   i            |                         |\n",
       "|   |  i     i       i   o     h n             |                         |\n",
       "|   |   f   n         s n       g              |                         |\n",
       "|   |    e g           g      ."
      ],
      "text/plain": [
       "<IPython.core.display.Markdown object>"
      ]
     },
     "metadata": {},
     "output_type": "display_data"
    }
   ],
   "source": [
    "eval_prompt = format_sample({**dataset1k[ieval], 'direction': 'NE'})['prompt']\n",
    "\n",
    "model_input = tokenizer(eval_prompt, return_tensors=\"pt\").to(\"cuda\")\n",
    "\n",
    "model.eval()\n",
    "with torch.no_grad():\n",
    "    response = tokenizer.decode(model.generate(**model_input, max_new_tokens=200)[0], skip_special_tokens=True)\n",
    "\n",
    "# just print the answer part:\n",
    "display(Markdown(response[len(eval_prompt):]))"
   ]
  },
  {
   "attachments": {},
   "cell_type": "markdown",
   "metadata": {},
   "source": [
    "### Step 8: Save model checkpoint\n",
    "Waste not want not..."
   ]
  },
  {
   "cell_type": "code",
   "execution_count": 82,
   "metadata": {},
   "outputs": [],
   "source": [
    "train_config.output_dir = 'bouncy-quotes-v1'\n",
    "model.save_pretrained(train_config.output_dir)"
   ]
  },
  {
   "cell_type": "markdown",
   "metadata": {},
   "source": [
    "## Conclusion\n",
    "I will actually revise my statement from the introduction (I added another epoch of training between now and then). This really is working better than I expected! The model is clearly learning something about how to write text on diagonals, but even more impressively, it seems to be starting to get the hang of reflections at the collision boundaries. On the other hand, it seems to be struggling with maintaining the column structure of the \"maze\" when characters are inserted within a row. It jumbles up the words that it's supposed to be writing. And, it appears to be ignoring the direction input entirely.\n",
    "\n",
    "It could just be a matter of more training! Fortunately, we can generate arbitrarily many training examples. GPU time, on the other hand is not as cheap, so for now I leave it here ;)"
   ]
  }
 ],
 "metadata": {
  "kernelspec": {
   "display_name": "llama",
   "language": "python",
   "name": "llama"
  },
  "language_info": {
   "codemirror_mode": {
    "name": "ipython",
    "version": 3
   },
   "file_extension": ".py",
   "mimetype": "text/x-python",
   "name": "python",
   "nbconvert_exporter": "python",
   "pygments_lexer": "ipython3",
   "version": "3.10.13"
  },
  "vscode": {
   "interpreter": {
    "hash": "2d58e898dde0263bc564c6968b04150abacfd33eed9b19aaa8e45c040360e146"
   }
  }
 },
 "nbformat": 4,
 "nbformat_minor": 4
}
